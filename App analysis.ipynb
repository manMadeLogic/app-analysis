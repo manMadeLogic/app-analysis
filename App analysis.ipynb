{
 "cells": [
  {
   "cell_type": "code",
   "execution_count": 2,
   "id": "d06afd37",
   "metadata": {},
   "outputs": [],
   "source": [
    "from app_db_manager import AppDbManager"
   ]
  },
  {
   "cell_type": "code",
   "execution_count": 3,
   "id": "a1887072",
   "metadata": {},
   "outputs": [
    {
     "name": "stdout",
     "output_type": "stream",
     "text": [
      "__init__ function with app_store_file=appleAppData.csv, google_play_file=Google-Playstore.csv\n"
     ]
    }
   ],
   "source": [
    "db = AppDbManager()"
   ]
  },
  {
   "cell_type": "code",
   "execution_count": 2,
   "id": "31a7b547",
   "metadata": {},
   "outputs": [],
   "source": [
    "app_store_table_name = \"app_store_apps_table\"\n",
    "google_play_table_name = \"google_play_apps_table\""
   ]
  },
  {
   "cell_type": "markdown",
   "id": "e4640f09",
   "metadata": {},
   "source": [
    "## Plot the distribution of app sizes across our three categories."
   ]
  },
  {
   "cell_type": "code",
   "execution_count": null,
   "id": "4071802e",
   "metadata": {},
   "outputs": [],
   "source": [
    "query_1_1 = \"\"\"\n",
    "SELECT\n",
    "CASE\n",
    "FROM {TABLE_NAME}\n",
    "\"\"\"\n"
   ]
  },
  {
   "cell_type": "code",
   "execution_count": null,
   "id": "35fafd4f",
   "metadata": {},
   "outputs": [],
   "source": [
    "# app store\n",
    "result = db.run_select(query_1_1.format())"
   ]
  },
  {
   "cell_type": "code",
   "execution_count": null,
   "id": "8f655077",
   "metadata": {},
   "outputs": [],
   "source": [
    "# google play"
   ]
  },
  {
   "cell_type": "code",
   "execution_count": null,
   "id": "cfe1e387",
   "metadata": {},
   "outputs": [],
   "source": [
    "query_1_2 = \"\"\"\n",
    "SELECT\n",
    "CASE\n",
    "\"\"\"\n"
   ]
  },
  {
   "cell_type": "code",
   "execution_count": null,
   "id": "2b639ed6",
   "metadata": {},
   "outputs": [],
   "source": [
    "# app store\n",
    "result = db.run_select()"
   ]
  },
  {
   "cell_type": "code",
   "execution_count": null,
   "id": "8c27c8ea",
   "metadata": {},
   "outputs": [],
   "source": [
    "# google play"
   ]
  },
  {
   "cell_type": "markdown",
   "id": "5f133b30",
   "metadata": {},
   "source": [
    "## Compute the average rating across all ratings for each of the three categories."
   ]
  },
  {
   "cell_type": "code",
   "execution_count": null,
   "id": "ce6937d0",
   "metadata": {},
   "outputs": [],
   "source": []
  },
  {
   "cell_type": "code",
   "execution_count": null,
   "id": "62f61f7e",
   "metadata": {},
   "outputs": [],
   "source": [
    "# app store"
   ]
  },
  {
   "cell_type": "code",
   "execution_count": null,
   "id": "973df8eb",
   "metadata": {},
   "outputs": [],
   "source": [
    "# google play"
   ]
  },
  {
   "cell_type": "markdown",
   "id": "d5a19440",
   "metadata": {},
   "source": [
    "## Plot the number of new releases in each category over time by month"
   ]
  },
  {
   "cell_type": "code",
   "execution_count": null,
   "id": "f1b42397",
   "metadata": {},
   "outputs": [],
   "source": [
    "# app store"
   ]
  },
  {
   "cell_type": "code",
   "execution_count": null,
   "id": "81c3155e",
   "metadata": {},
   "outputs": [],
   "source": [
    "# google play"
   ]
  },
  {
   "cell_type": "markdown",
   "id": "c90b5a1e",
   "metadata": {},
   "source": [
    "## List the 10 biggest apps by size in each category by year."
   ]
  },
  {
   "cell_type": "code",
   "execution_count": null,
   "id": "984965a3",
   "metadata": {},
   "outputs": [],
   "source": [
    "# app store"
   ]
  },
  {
   "cell_type": "code",
   "execution_count": null,
   "id": "32da8e9b",
   "metadata": {},
   "outputs": [],
   "source": [
    "# google play"
   ]
  }
 ],
 "metadata": {
  "kernelspec": {
   "display_name": "Python 3 (ipykernel)",
   "language": "python",
   "name": "python3"
  },
  "language_info": {
   "codemirror_mode": {
    "name": "ipython",
    "version": 3
   },
   "file_extension": ".py",
   "mimetype": "text/x-python",
   "name": "python",
   "nbconvert_exporter": "python",
   "pygments_lexer": "ipython3",
   "version": "3.9.6"
  }
 },
 "nbformat": 4,
 "nbformat_minor": 5
}
