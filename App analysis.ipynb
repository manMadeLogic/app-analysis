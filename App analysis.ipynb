{
 "cells": [
  {
   "cell_type": "code",
   "execution_count": 1,
   "id": "d06afd37",
   "metadata": {},
   "outputs": [],
   "source": [
    "from app_db_manager import (AppDbManager,\n",
    "                            APP_STORE_CATEGORY_CASE_STATEMENT,\n",
    "                            APP_STORE_CATEGORY_FILTER_STATEMENT,\n",
    "                            GOOGLE_PLAY_CATEGORY_CASE_STATEMENT,\n",
    "                            GOOGLE_PLAY_CATEGORY_FILTER_STATEMENT,\n",
    "                           )"
   ]
  },
  {
   "cell_type": "code",
   "execution_count": 18,
   "id": "c3aa445b",
   "metadata": {},
   "outputs": [],
   "source": [
    "import pandas as pd"
   ]
  },
  {
   "cell_type": "code",
   "execution_count": 2,
   "id": "a1887072",
   "metadata": {},
   "outputs": [
    {
     "name": "stdout",
     "output_type": "stream",
     "text": [
      "__init__ function with app_store_file=appleAppData.csv, google_play_file=Google-Playstore.csv\n"
     ]
    }
   ],
   "source": [
    "db = AppDbManager()"
   ]
  },
  {
   "cell_type": "code",
   "execution_count": 3,
   "id": "31a7b547",
   "metadata": {},
   "outputs": [],
   "source": [
    "app_store_table_name = \"app_store_apps_table\"\n",
    "google_play_table_name = \"google_play_apps_table\""
   ]
  },
  {
   "cell_type": "code",
   "execution_count": 4,
   "id": "d8575fda",
   "metadata": {},
   "outputs": [
    {
     "name": "stdout",
     "output_type": "stream",
     "text": [
      "\n",
      "CASE\n",
      "    WHEN category = 'Games' THEN 'Game'\n",
      "    WHEN category = 'Music' THEN 'Music'\n",
      "    WHEN category = 'Health & Fitness' THEN 'Health'\n",
      "END\n",
      "\n",
      "\n",
      "category IN ('Games', 'Music', 'Health & Fitness')\n",
      "\n",
      "\n",
      "CASE\n",
      "    WHEN category IN ('Games', 'Action', 'Adventure', 'Arcade',\n",
      "                      'Board', 'Card', 'Casino, Casual',\n",
      "                      'Educational', 'Music', 'Puzzle', 'Racing',\n",
      "                      'Role Playing', 'Simulation', 'Sports',\n",
      "                      'Strategy', 'Trivia', 'Word') THEN 'Game'\n",
      "    WHEN category = 'Music & Audio' THEN 'Music'\n",
      "    WHEN category = 'Health & Fitness' THEN 'Health'\n",
      "END\n",
      "\n",
      "\n",
      "category IN ('Games', 'Action', 'Adventure', 'Arcade',\n",
      "                      'Board', 'Card', 'Casino, Casual',\n",
      "                      'Educational', 'Music', 'Puzzle', 'Racing',\n",
      "                      'Role Playing', 'Simulation', 'Sports',\n",
      "                      'Strategy', 'Trivia', 'Word', 'Music & Audio', 'Health & Fitness')\n",
      "\n"
     ]
    }
   ],
   "source": [
    "print(APP_STORE_CATEGORY_CASE_STATEMENT)\n",
    "print(APP_STORE_CATEGORY_FILTER_STATEMENT)\n",
    "print(GOOGLE_PLAY_CATEGORY_CASE_STATEMENT)\n",
    "print(GOOGLE_PLAY_CATEGORY_FILTER_STATEMENT)"
   ]
  },
  {
   "cell_type": "markdown",
   "id": "e4640f09",
   "metadata": {},
   "source": [
    "## Plot the distribution of app sizes across our three categories."
   ]
  },
  {
   "cell_type": "code",
   "execution_count": 4,
   "id": "4071802e",
   "metadata": {},
   "outputs": [],
   "source": [
    "query_1_1 = \"\"\"\n",
    "SELECT\n",
    "    {case_statement} AS category,\n",
    "    AVG(size_in_mb) AS avg_size,\n",
    "    MIN(size_in_mb) AS min_size,\n",
    "    MAX(size_in_mb) AS max_size\n",
    "FROM {table_name}\n",
    "WHERE {filter_statement}\n",
    "GROUP BY 1\n",
    "\"\"\"\n"
   ]
  },
  {
   "cell_type": "code",
   "execution_count": 5,
   "id": "35fafd4f",
   "metadata": {},
   "outputs": [
    {
     "name": "stdout",
     "output_type": "stream",
     "text": [
      "  category    avg_size  min_size      max_size\n",
      "0     Game  142.563163  0.000000  73222.591724\n",
      "1   Health   63.638878  0.143153   6351.762695\n",
      "2    Music   73.180113  0.026348   5087.920526\n"
     ]
    }
   ],
   "source": [
    "# app store\n",
    "result = db.run_select_pd(query_1_1.format(\n",
    "    case_statement=APP_STORE_CATEGORY_CASE_STATEMENT,\n",
    "    filter_statement=APP_STORE_CATEGORY_FILTER_STATEMENT,\n",
    "    table_name=app_store_table_name,\n",
    "))\n",
    "print(result)"
   ]
  },
  {
   "cell_type": "code",
   "execution_count": 6,
   "id": "8f655077",
   "metadata": {},
   "outputs": [
    {
     "name": "stdout",
     "output_type": "stream",
     "text": [
      "  category   avg_size  min_size  max_size\n",
      "0     Game  30.556361  0.009766    1536.0\n",
      "1   Health  28.802659  0.007520     706.0\n",
      "2    Music  17.923657  0.008887    1126.4\n"
     ]
    }
   ],
   "source": [
    "# google play\n",
    "result = db.run_select_pd(query_1_1.format(\n",
    "    case_statement=GOOGLE_PLAY_CATEGORY_CASE_STATEMENT,\n",
    "    filter_statement=GOOGLE_PLAY_CATEGORY_FILTER_STATEMENT,\n",
    "    table_name=google_play_table_name,\n",
    "))\n",
    "print(result)"
   ]
  },
  {
   "cell_type": "markdown",
   "id": "5f133b30",
   "metadata": {},
   "source": [
    "## Compute the average rating across all ratings for each of the three categories."
   ]
  },
  {
   "cell_type": "code",
   "execution_count": 7,
   "id": "ce6937d0",
   "metadata": {},
   "outputs": [],
   "source": [
    "query_2 = \"\"\"\n",
    "SELECT\n",
    "    {case_statement} AS category,\n",
    "    SUM(rating*rating_count) * 1.0 / SUM(rating_count) AS average_rating\n",
    "FROM {table_name}\n",
    "WHERE {filter_statement}\n",
    "GROUP BY 1\n",
    "\"\"\""
   ]
  },
  {
   "cell_type": "code",
   "execution_count": 8,
   "id": "62f61f7e",
   "metadata": {},
   "outputs": [
    {
     "name": "stdout",
     "output_type": "stream",
     "text": [
      "  category  average_rating\n",
      "0     Game        4.620479\n",
      "1   Health        4.754431\n",
      "2    Music        4.767138\n"
     ]
    }
   ],
   "source": [
    "# app store\n",
    "result = db.run_select_pd(query_2.format(\n",
    "    case_statement=APP_STORE_CATEGORY_CASE_STATEMENT,\n",
    "    filter_statement=APP_STORE_CATEGORY_FILTER_STATEMENT,\n",
    "    table_name=app_store_table_name,\n",
    "))\n",
    "print(result)"
   ]
  },
  {
   "cell_type": "code",
   "execution_count": 9,
   "id": "973df8eb",
   "metadata": {},
   "outputs": [
    {
     "name": "stdout",
     "output_type": "stream",
     "text": [
      "  category  average_rating\n",
      "0     Game        4.272284\n",
      "1   Health        4.474643\n",
      "2    Music        4.387132\n"
     ]
    }
   ],
   "source": [
    "# google play\n",
    "result = db.run_select_pd(query_2.format(\n",
    "    case_statement=GOOGLE_PLAY_CATEGORY_CASE_STATEMENT,\n",
    "    filter_statement=GOOGLE_PLAY_CATEGORY_FILTER_STATEMENT,\n",
    "    table_name=google_play_table_name,\n",
    "))\n",
    "print(result)"
   ]
  },
  {
   "cell_type": "markdown",
   "id": "d5a19440",
   "metadata": {},
   "source": [
    "## Plot the number of new releases in each category over time by month"
   ]
  },
  {
   "cell_type": "code",
   "execution_count": 10,
   "id": "1b99ffd9",
   "metadata": {},
   "outputs": [],
   "source": [
    "query_3 = \"\"\"\n",
    "SELECT\n",
    "    {case_statement} AS category,\n",
    "    SUBSTR(released_date, 1, 7) AS released_month,\n",
    "    count(1) AS cnt\n",
    "FROM {table_name}\n",
    "WHERE {filter_statement}\n",
    "GROUP BY 1, 2\n",
    "ORDER BY 1, 2\n",
    "\"\"\""
   ]
  },
  {
   "cell_type": "code",
   "execution_count": 11,
   "id": "f1b42397",
   "metadata": {},
   "outputs": [
    {
     "name": "stdout",
     "output_type": "stream",
     "text": [
      "    category released_month  cnt\n",
      "0       Game                   3\n",
      "1       Game        2008-09    5\n",
      "2       Game        2008-10   42\n",
      "3       Game        2008-11   41\n",
      "4       Game        2008-12   42\n",
      "..       ...            ...  ...\n",
      "480    Music        2021-07  347\n",
      "481    Music        2021-08  354\n",
      "482    Music        2021-09  309\n",
      "483    Music        2021-10  117\n",
      "484    Music        2021-11    2\n",
      "\n",
      "[485 rows x 3 columns]\n"
     ]
    }
   ],
   "source": [
    "# app store\n",
    "result = db.run_select_pd(query_3.format(\n",
    "    case_statement=APP_STORE_CATEGORY_CASE_STATEMENT,\n",
    "    filter_statement=APP_STORE_CATEGORY_FILTER_STATEMENT,\n",
    "    table_name=app_store_table_name,\n",
    "))\n",
    "print(result)"
   ]
  },
  {
   "cell_type": "code",
   "execution_count": 12,
   "id": "81c3155e",
   "metadata": {},
   "outputs": [
    {
     "name": "stdout",
     "output_type": "stream",
     "text": [
      "    category released_month   cnt\n",
      "0       Game           None  9790\n",
      "1       Game        2010-01     4\n",
      "2       Game        2010-02    24\n",
      "3       Game        2010-03    30\n",
      "4       Game        2010-04    38\n",
      "..       ...            ...   ...\n",
      "410    Music        2021-02  2022\n",
      "411    Music        2021-03  2060\n",
      "412    Music        2021-04  1981\n",
      "413    Music        2021-05  1500\n",
      "414    Music        2021-06   380\n",
      "\n",
      "[415 rows x 3 columns]\n"
     ]
    }
   ],
   "source": [
    "# google play\n",
    "result = db.run_select_pd(query_3.format(\n",
    "    case_statement=GOOGLE_PLAY_CATEGORY_CASE_STATEMENT,\n",
    "    filter_statement=GOOGLE_PLAY_CATEGORY_FILTER_STATEMENT,\n",
    "    table_name=google_play_table_name,\n",
    "))\n",
    "print(result)"
   ]
  },
  {
   "cell_type": "markdown",
   "id": "c90b5a1e",
   "metadata": {},
   "source": [
    "## List the 10 biggest apps by size in each category by year."
   ]
  },
  {
   "cell_type": "code",
   "execution_count": 13,
   "id": "22d6dbcf",
   "metadata": {},
   "outputs": [],
   "source": [
    "query_4 = \"\"\"\n",
    "WITH max_size_by_category_by_year AS (\n",
    "    SELECT\n",
    "        {case_statement} AS new_category,\n",
    "        SUBSTR(released_date, 1, 4) AS released_year,\n",
    "        MAX(size_in_mb) AS max_size\n",
    "    FROM {table_name}\n",
    "    WHERE {filter_statement}\n",
    "    GROUP BY 1, 2\n",
    ")\n",
    "SELECT\n",
    "    max_size_by_category_by_year.new_category AS category,\n",
    "    SUBSTR(released_date, 1, 4) AS released_year,\n",
    "    raw.app_name,\n",
    "    raw.app_id,\n",
    "    raw.size_in_mb\n",
    "FROM {table_name} as raw\n",
    "INNER JOIN max_size_by_category_by_year\n",
    "    ON max_size_by_category_by_year.new_category = {case_statement}\n",
    "    AND max_size_by_category_by_year.released_year = SUBSTR(raw.released_date, 1, 4)\n",
    "    AND max_size_by_category_by_year.max_size <= raw.size_in_mb\n",
    "ORDER BY 1, 2\n",
    "\"\"\""
   ]
  },
  {
   "cell_type": "code",
   "execution_count": 19,
   "id": "984965a3",
   "metadata": {},
   "outputs": [
    {
     "name": "stdout",
     "output_type": "stream",
     "text": [
      "   category released_year                               app_name   \n",
      "0      Game          2008                                  QBeez  \\\n",
      "1      Game          2009                              Space Ace   \n",
      "2      Game          2010                       Dragon's Lair HD   \n",
      "3      Game          2011                     X3 Terran Conflict   \n",
      "4      Game          2012                          Borderlands 2   \n",
      "5      Game          2013                    Total War: NAPOLEON   \n",
      "6      Game          2014                Divinity - Original Sin   \n",
      "7      Game          2015         Company of Heroes 2 Collection   \n",
      "8      Game          2016                                 XCOM 2   \n",
      "9      Game          2017                              Mafia III   \n",
      "10     Game          2018          Aerofly FS 2 Flight Simulator   \n",
      "11     Game          2019              Total War: THREE KINGDOMS   \n",
      "12     Game          2020                Total War: WARHAMMER II   \n",
      "13     Game          2021                           Metro Exodus   \n",
      "14     Game          2022                  LOST in Blue (Global)   \n",
      "15   Health          2008            Map My Ride by Under Armour   \n",
      "16   Health          2009  Relaxing Sounds Of Nature & SPA Music   \n",
      "17   Health          2010                             QE Squared   \n",
      "18   Health          2011                     Pilates Classic DT   \n",
      "19   Health          2012                              Imagine-i   \n",
      "20   Health          2013            Pregnancy: Life in the Womb   \n",
      "21   Health          2014          KBS Nichtraucher in 5 Stunden   \n",
      "22   Health          2015           Brigitte Fitness Health Yoga   \n",
      "23   Health          2016                      Essilor Companion   \n",
      "24   Health          2017     Hoya Vision Simulator VR (Offline)   \n",
      "25   Health          2018                               Mightier   \n",
      "26   Health          2019                             O1-275-6FI   \n",
      "27   Health          2020                     HOLOFIT VR Fitness   \n",
      "28   Health          2021                     Mobil im Havelland   \n",
      "29   Health          2022         Contraction Counter &Timer App   \n",
      "30    Music          2008                             Capital FM   \n",
      "31    Music          2009                           Music Studio   \n",
      "32    Music          2010         Core Course For Omnisphere 101   \n",
      "33    Music          2011                Make Killer Drums Guide   \n",
      "34    Music          2012          Elbphilharmonie Hamburg 3D HD   \n",
      "35    Music          2013                     Risale-i Nur Dinle   \n",
      "36    Music          2014                            House Music   \n",
      "37    Music          2015             Film Dialog Editing Course   \n",
      "38    Music          2016              Turbosounds for Accordion   \n",
      "39    Music          2017                  Neo-Soul Keys® Studio   \n",
      "40    Music          2018         Drum Machine Loops - Loop Drum   \n",
      "41    Music          2019                     TriplePlay Connect   \n",
      "42    Music          2020          Beginner Guide for Maschine +   \n",
      "43    Music          2021                     HMX Master Guitar™   \n",
      "\n",
      "                                     app_id    size_in_mb  \n",
      "0              com.skunkstudios.games.QBeez    253.416016  \n",
      "1               com.digitalleisure.spaceace   2161.584961  \n",
      "2        com.dragonslairllc.dragonslairipad   1979.262695  \n",
      "3                        com.vpltd.X3TC-MAS   7213.342400  \n",
      "4           com.aspyr.borderlands2.appstore  32786.889726  \n",
      "5           com.feralinteractive.napoleontw  15883.465807  \n",
      "6                            com.larian.dos  15944.697865  \n",
      "7     com.feralinteractive.companyofheroes2  40105.749650  \n",
      "8                com.feralinteractive.xcom2  30446.241404  \n",
      "9                 com.aspyr.mafia3.appstore  46456.905587  \n",
      "10             com.aerofly.aerofly-fs-2-mac  32337.811107  \n",
      "11     com.feralinteractive.threekingdomstw  43870.335733  \n",
      "12        com.feralinteractive.warhammer2tw  45104.025642  \n",
      "13             com.kochmedia.MetroExodusNew  73222.591724  \n",
      "14             com.volcanoforce.lost.global   2394.121094  \n",
      "15                    Q5AWL8WCY6.iMapMyRide    242.536133  \n",
      "16  net.rhsoftware.SoundsOfNatureSoundboard    553.985352  \n",
      "17           com.nicolestuart.qesquaredfull   2279.363281  \n",
      "18             com.aerende.PilatesClassicDT   1578.416627  \n",
      "19                        com.nikon.imagine   1552.983398  \n",
      "20  com.sciencepicturecompany.lifeinthewomb   1109.657227  \n",
      "21                  de.kbs.nri5h-kbs-iphone   1765.664062  \n",
      "22       com.upmc-mobile.upc-7072-universal   1937.640625  \n",
      "23                 com.essilor.eyecastprov2   2571.716797  \n",
      "24                  com.hoya.HVS-VR.offline   3396.024414  \n",
      "25                 com.neuromotion.mightier   3132.021484  \n",
      "26                 com.drlu168.allone275.me   2606.326172  \n",
      "27                  com.holodia.holofit.ios   3498.331055  \n",
      "28                             de.qu.mobile   6351.762695  \n",
      "29               com.pregnancyc.contraction     60.670898  \n",
      "30               com.thisisglobal.CapitalFM    228.415039  \n",
      "31     com.alexandergross.XewtonMusicStudio    774.970703  \n",
      "32              com.appomator.Omnisphere101   1638.103516  \n",
      "33                  com.appomator.AOM000147   2039.798828  \n",
      "34   de.elbphilharmonie.interactive3DTourHD   2148.046875  \n",
      "35   com.ethemsulan.risaleinur.Risale-i-Nur   2894.672852  \n",
      "36              com.novasoftware.HouseMusic   5087.920526  \n",
      "37   com.nonlineareducating.x.protools11302   2900.240476  \n",
      "38                com.turboreini.turbosound   2646.949219  \n",
      "39                       com.midiculous.neo   3714.599609  \n",
      "40          com.s.u.p.records5411.Loop-Drum   3809.354492  \n",
      "41        com.fishman.tripleplayconnect.ios   3809.754883  \n",
      "42             com.askvideo.maschineplus101   2669.634766  \n",
      "43               com.MajorHarmony.HMXGuitar   3619.605469  \n"
     ]
    }
   ],
   "source": [
    "# app store\n",
    "result = db.run_select_pd(query_4.format(\n",
    "    case_statement=APP_STORE_CATEGORY_CASE_STATEMENT,\n",
    "    filter_statement=APP_STORE_CATEGORY_FILTER_STATEMENT,\n",
    "    table_name=app_store_table_name,\n",
    "))\n",
    "print(result)"
   ]
  },
  {
   "cell_type": "code",
   "execution_count": 16,
   "id": "32da8e9b",
   "metadata": {},
   "outputs": [
    {
     "name": "stdout",
     "output_type": "stream",
     "text": [
      "   category released_year                                           app_name   \n",
      "0      Game          2010    Yahoo Fantasy Sports: Football, Baseball & More  \\\n",
      "1      Game          2011                                                TSN   \n",
      "2      Game          2012                                  Klaverjas HD Free   \n",
      "3      Game          2013                                        城堡爭霸 - 聯盟霸業   \n",
      "4      Game          2014                                      Summoners War   \n",
      "5      Game          2015  Critical Ops: Online Multiplayer FPS Shooting ...   \n",
      "6      Game          2016                                        Titan Quest   \n",
      "7      Game          2017                   Guns of Boom - Online PvP Action   \n",
      "8      Game          2018  Kiddopia: Preschool Education & ABC Games for ...   \n",
      "9      Game          2019          Sword Art Online Alicization Rising Steel   \n",
      "10     Game          2020                         Sky: Children of the Light   \n",
      "11     Game          2021                     Titan Quest: Legendary Edition   \n",
      "12   Health          2010           Insight Timer - Meditation, Sleep, Music   \n",
      "13   Health          2011                      WW Weight Watchers Reimagined   \n",
      "14   Health          2012                           Ginger Emotional Support   \n",
      "15   Health          2013                                    Garmin Connect™   \n",
      "16   Health          2014                                             My CUF   \n",
      "17   Health          2015                Circle Medical - See a Doctor Today   \n",
      "18   Health          2016                                               Oura   \n",
      "19   Health          2017                                    ethizo Provider   \n",
      "20   Health          2018  APECS: AI Posture Evaluation and Correction Sy...   \n",
      "21   Health          2019                                  Studio Instructor   \n",
      "22   Health          2020                                        Dub Fitness   \n",
      "23   Health          2021                                    Zone Revolution   \n",
      "24    Music          2010                                         Vocal Ease   \n",
      "25    Music          2011                                         Coast Live   \n",
      "26    Music          2012    Lost on Infinity – Children's Audiobook Story 1   \n",
      "27    Music          2013                                       AmbiExplorer   \n",
      "28    Music          2014                                      DJ Papi Blaze   \n",
      "29    Music          2015                              djay - DJ App & Mixer   \n",
      "30    Music          2016                             Roon Essentials Remote   \n",
      "31    Music          2017                                          XME LOOPS   \n",
      "32    Music          2018                              Karaoke - Sing Songs!   \n",
      "33    Music          2019                   Аудіо Страшилки від Чорного Ріка   \n",
      "34    Music          2020          Cubasis 3 - Music Studio and Audio Editor   \n",
      "35    Music          2021                                   Orba by Artiphon   \n",
      "\n",
      "                                               app_id  size_in_mb  \n",
      "0     com.yahoo.mobile.client.android.fantasyfootball       330.0  \n",
      "1                               ca.tsn.mobile.android       232.0  \n",
      "2                      com.knipsoft.klaverjassen.lite       189.0  \n",
      "3                              com.igg.castleclash_tw       578.0  \n",
      "4   com.com2us.smon.normal.freefull.google.kr.andr...      1126.4  \n",
      "5          com.criticalforceentertainment.criticalops       623.0  \n",
      "6                               com.dotemu.titanquest      1536.0  \n",
      "7                          com.gameinsight.gobandroid      1126.4  \n",
      "8                   com.paperboatapps.google.kiddopia       810.0  \n",
      "9                           com.bandainamcoent.saoars       799.0  \n",
      "10                                com.tgc.sky.android      1126.4  \n",
      "11                           com.hg.titanquestedition      1536.0  \n",
      "12                     com.spotlightsix.zentimerlite2       131.0  \n",
      "13                          com.weightwatchers.mobile       167.0  \n",
      "14                                         com.ginger       219.0  \n",
      "15              com.garmin.android.apps.connectmobile       178.0  \n",
      "16                                  pt.saudecuf.myCUF       369.0  \n",
      "17                           co.circlemedical.patient       300.0  \n",
      "18                                  com.ouraring.oura       237.0  \n",
      "19                             org.provider.carecinch       408.0  \n",
      "20                      corpusnovus.silverblood.apecs       286.0  \n",
      "21                   app.mindfulnessstudio.instructor       274.0  \n",
      "22                          com.liftedline.dubfitness       706.0  \n",
      "23                              fit.uptivo.zonerevapp       299.0  \n",
      "24                        com.oncue.android.vocalease       130.0  \n",
      "25                            com.thisisaim.coastlive        76.0  \n",
      "26                          co.uk.sweetapple.RROPart1       300.0  \n",
      "27                          net.hcenteno.ambiexplorer       263.0  \n",
      "28  com.conduit.app_a375fc2062a340f58a55d04e7f2536...       195.0  \n",
      "29                           com.algoriddim.djay_free       244.0  \n",
      "30                          com.roonessentials.mobile       180.0  \n",
      "31                          app.xmeinc.com.loopsbyxme       222.0  \n",
      "32                                com.gismart.karaoke       209.0  \n",
      "33                             com.kauiluas.blackrick       166.0  \n",
      "34                             com.steinberg.cubasis3      1126.4  \n",
      "35                                  com.artiphon.orba       339.0  \n"
     ]
    }
   ],
   "source": [
    "# google play\n",
    "result = db.run_select_pd(query_4.format(\n",
    "    case_statement=GOOGLE_PLAY_CATEGORY_CASE_STATEMENT,\n",
    "    filter_statement=GOOGLE_PLAY_CATEGORY_FILTER_STATEMENT,\n",
    "    table_name=google_play_table_name,\n",
    "))\n",
    "print(result)"
   ]
  },
  {
   "cell_type": "code",
   "execution_count": null,
   "id": "0d1edaf3",
   "metadata": {},
   "outputs": [],
   "source": []
  }
 ],
 "metadata": {
  "kernelspec": {
   "display_name": "Python 3 (ipykernel)",
   "language": "python",
   "name": "python3"
  },
  "language_info": {
   "codemirror_mode": {
    "name": "ipython",
    "version": 3
   },
   "file_extension": ".py",
   "mimetype": "text/x-python",
   "name": "python",
   "nbconvert_exporter": "python",
   "pygments_lexer": "ipython3",
   "version": "3.9.6"
  }
 },
 "nbformat": 4,
 "nbformat_minor": 5
}
